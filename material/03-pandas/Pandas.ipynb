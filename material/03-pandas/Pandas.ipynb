{
 "cells": [
  {
   "cell_type": "code",
   "execution_count": 3,
   "id": "d140bfb3-459e-432f-b99e-4c35788b3e99",
   "metadata": {},
   "outputs": [],
   "source": []
  },
  {
   "cell_type": "code",
   "execution_count": 4,
   "id": "dbbe5c34-ba04-4d2b-9a31-1053adc211e3",
   "metadata": {},
   "outputs": [],
   "source": [
    "class Food:\n",
    "    def __init__ (self, \n",
    "                  name, \n",
    "                  has_flour=False, \n",
    "                  has_tomato=False, \n",
    "                  served_hot=False):\n",
    "        self.name = name\n",
    "        self.has_flour = has_flour\n",
    "        self.has_tomato = has_tomato\n",
    "        self.served_hot = served_hot\n",
    "    \n",
    "\n",
    "tagliatelle = Food('tagliatelle', has_flour=True, has_tomato=True, served_hot=True)\n",
    "torta_al_testo = Food('torta al testo', has_flour=True, has_tomato=False, served_hot=True)\n",
    "bistecca = Food('bistecca', has_flour=False, has_tomato=False, served_hot=True)\n",
    "baci_perugina = Food('baci perugina', has_flour=False, has_tomato=False, served_hot=False)\n",
    "\n",
    "    "
   ]
  },
  {
   "cell_type": "code",
   "execution_count": 5,
   "id": "14f24fa8-a13c-43f7-97d2-88473f32c45d",
   "metadata": {},
   "outputs": [],
   "source": [
    "class City:\n",
    "    def __init__ (self, name, region, foods=tuple()):\n",
    "        self.name = name\n",
    "        self.region = region\n",
    "        self.foods = foods\n",
    "        \n",
    "\n",
    "\n",
    "cities = [\n",
    "    City('Perugia', 'Umbria', foods=[tagliatelle, torta_al_testo]),\n",
    "    City('Bologna', 'Emilia-Romagna', foods=[tagliatelle]),\n",
    "    City('Florence', 'Toscana', foods=[bistecca])\n",
    "]\n",
    "\n"
   ]
  },
  {
   "cell_type": "code",
   "execution_count": 7,
   "id": "3727a54f-bb23-4176-8025-a91bdb59026e",
   "metadata": {},
   "outputs": [
    {
     "name": "stdout",
     "output_type": "stream",
     "text": [
      "['Umbria', 'Emilia-Romagna']\n"
     ]
    }
   ],
   "source": [
    "tomato_regions = []\n",
    "for city in cities:\n",
    "    for food in city.foods:\n",
    "        if food.has_tomato:\n",
    "            tomato_regions.append(city.region)\n",
    "            break\n",
    "print (tomato_regions)"
   ]
  },
  {
   "cell_type": "code",
   "execution_count": 11,
   "id": "a3245f7f-bf3a-434d-b8e6-8e188df33212",
   "metadata": {},
   "outputs": [
    {
     "data": {
      "text/html": [
       "<div>\n",
       "<style scoped>\n",
       "    .dataframe tbody tr th:only-of-type {\n",
       "        vertical-align: middle;\n",
       "    }\n",
       "\n",
       "    .dataframe tbody tr th {\n",
       "        vertical-align: top;\n",
       "    }\n",
       "\n",
       "    .dataframe thead th {\n",
       "        text-align: right;\n",
       "    }\n",
       "</style>\n",
       "<table border=\"1\" class=\"dataframe\">\n",
       "  <thead>\n",
       "    <tr style=\"text-align: right;\">\n",
       "      <th></th>\n",
       "      <th>city_name</th>\n",
       "      <th>region</th>\n",
       "    </tr>\n",
       "  </thead>\n",
       "  <tbody>\n",
       "    <tr>\n",
       "      <th>0</th>\n",
       "      <td>Perugia</td>\n",
       "      <td>Umbria</td>\n",
       "    </tr>\n",
       "    <tr>\n",
       "      <th>1</th>\n",
       "      <td>Bologna</td>\n",
       "      <td>Emilia-Romagna</td>\n",
       "    </tr>\n",
       "    <tr>\n",
       "      <th>2</th>\n",
       "      <td>Florence</td>\n",
       "      <td>Toscana</td>\n",
       "    </tr>\n",
       "  </tbody>\n",
       "</table>\n",
       "</div>"
      ],
      "text/plain": [
       "  city_name          region\n",
       "0   Perugia          Umbria\n",
       "1   Bologna  Emilia-Romagna\n",
       "2  Florence         Toscana"
      ]
     },
     "execution_count": 11,
     "metadata": {},
     "output_type": "execute_result"
    }
   ],
   "source": [
    "import pandas as pd\n",
    "\n",
    "city_df = pd.DataFrame([\n",
    "    {'city_name': 'Perugia', 'region': 'Umbria'},\n",
    "    {'city_name': 'Bologna', 'region': 'Emilia-Romagna'},\n",
    "    {'city_name': 'Florence', 'region': 'Toscana'}\n",
    "])\n",
    "\n",
    "city_df"
   ]
  },
  {
   "cell_type": "code",
   "execution_count": 12,
   "id": "c9281bcd-0e42-4eb0-a0de-3fba2207d2ae",
   "metadata": {},
   "outputs": [
    {
     "data": {
      "text/html": [
       "<div>\n",
       "<style scoped>\n",
       "    .dataframe tbody tr th:only-of-type {\n",
       "        vertical-align: middle;\n",
       "    }\n",
       "\n",
       "    .dataframe tbody tr th {\n",
       "        vertical-align: top;\n",
       "    }\n",
       "\n",
       "    .dataframe thead th {\n",
       "        text-align: right;\n",
       "    }\n",
       "</style>\n",
       "<table border=\"1\" class=\"dataframe\">\n",
       "  <thead>\n",
       "    <tr style=\"text-align: right;\">\n",
       "      <th></th>\n",
       "      <th>food_name</th>\n",
       "      <th>has_flour</th>\n",
       "      <th>has_tomato</th>\n",
       "      <th>served_hot</th>\n",
       "    </tr>\n",
       "  </thead>\n",
       "  <tbody>\n",
       "    <tr>\n",
       "      <th>0</th>\n",
       "      <td>tagliatelle</td>\n",
       "      <td>True</td>\n",
       "      <td>True</td>\n",
       "      <td>True</td>\n",
       "    </tr>\n",
       "    <tr>\n",
       "      <th>1</th>\n",
       "      <td>torta al testo</td>\n",
       "      <td>True</td>\n",
       "      <td>True</td>\n",
       "      <td>True</td>\n",
       "    </tr>\n",
       "    <tr>\n",
       "      <th>2</th>\n",
       "      <td>baci perugina</td>\n",
       "      <td>False</td>\n",
       "      <td>False</td>\n",
       "      <td>False</td>\n",
       "    </tr>\n",
       "    <tr>\n",
       "      <th>3</th>\n",
       "      <td>bistecca</td>\n",
       "      <td>False</td>\n",
       "      <td>False</td>\n",
       "      <td>False</td>\n",
       "    </tr>\n",
       "  </tbody>\n",
       "</table>\n",
       "</div>"
      ],
      "text/plain": [
       "        food_name  has_flour  has_tomato  served_hot\n",
       "0     tagliatelle       True        True        True\n",
       "1  torta al testo       True        True        True\n",
       "2   baci perugina      False       False       False\n",
       "3        bistecca      False       False       False"
      ]
     },
     "execution_count": 12,
     "metadata": {},
     "output_type": "execute_result"
    }
   ],
   "source": [
    "food_df = pd.DataFrame([\n",
    "    ('tagliatelle', True, True, True),\n",
    "    ('torta al testo', True, True, True),\n",
    "       ('baci perugina', False, False, False),\n",
    "       ('bistecca', False, False, False),\n",
    "],\n",
    "    columns = ['food_name', 'has_flour', 'has_tomato', 'served_hot']\n",
    ")\n",
    "\n",
    "food_df"
   ]
  },
  {
   "cell_type": "code",
   "execution_count": 14,
   "id": "cb7f65e8-07bf-4041-8483-7c13fe361d77",
   "metadata": {},
   "outputs": [
    {
     "data": {
      "text/html": [
       "<div>\n",
       "<style scoped>\n",
       "    .dataframe tbody tr th:only-of-type {\n",
       "        vertical-align: middle;\n",
       "    }\n",
       "\n",
       "    .dataframe tbody tr th {\n",
       "        vertical-align: top;\n",
       "    }\n",
       "\n",
       "    .dataframe thead th {\n",
       "        text-align: right;\n",
       "    }\n",
       "</style>\n",
       "<table border=\"1\" class=\"dataframe\">\n",
       "  <thead>\n",
       "    <tr style=\"text-align: right;\">\n",
       "      <th></th>\n",
       "      <th>food_name</th>\n",
       "      <th>city_name</th>\n",
       "    </tr>\n",
       "  </thead>\n",
       "  <tbody>\n",
       "    <tr>\n",
       "      <th>0</th>\n",
       "      <td>tagliatelle</td>\n",
       "      <td>Perugia</td>\n",
       "    </tr>\n",
       "    <tr>\n",
       "      <th>1</th>\n",
       "      <td>tagliatelle</td>\n",
       "      <td>Bologna</td>\n",
       "    </tr>\n",
       "    <tr>\n",
       "      <th>2</th>\n",
       "      <td>baci perugina</td>\n",
       "      <td>Perugia</td>\n",
       "    </tr>\n",
       "    <tr>\n",
       "      <th>3</th>\n",
       "      <td>bistecca</td>\n",
       "      <td>Florence</td>\n",
       "    </tr>\n",
       "  </tbody>\n",
       "</table>\n",
       "</div>"
      ],
      "text/plain": [
       "       food_name city_name\n",
       "0    tagliatelle   Perugia\n",
       "1    tagliatelle   Bologna\n",
       "2  baci perugina   Perugia\n",
       "3       bistecca  Florence"
      ]
     },
     "execution_count": 14,
     "metadata": {},
     "output_type": "execute_result"
    }
   ],
   "source": [
    "relations = pd.DataFrame([\n",
    "    ('tagliatelle', 'Perugia'),\n",
    "    ('tagliatelle', 'Bologna'),\n",
    "    ('baci perugina', 'Perugia'),\n",
    "    ('bistecca', 'Florence')\n",
    "], columns=['food_name', 'city_name'])\n",
    "\n",
    "relations\n",
    "    \n"
   ]
  },
  {
   "cell_type": "code",
   "execution_count": 18,
   "id": "c7f891fd-fbd3-4e95-bc96-2d263efe407c",
   "metadata": {},
   "outputs": [
    {
     "data": {
      "text/plain": [
       "0            Umbria\n",
       "1    Emilia-Romagna\n",
       "Name: region, dtype: object"
      ]
     },
     "execution_count": 18,
     "metadata": {},
     "output_type": "execute_result"
    }
   ],
   "source": [
    "(city_df\n",
    " .merge(relations, on='city_name')\n",
    " .merge(food_df, on='food_name')\n",
    " .query('has_tomato')\n",
    " ['region']\n",
    ")"
   ]
  },
  {
   "cell_type": "code",
   "execution_count": null,
   "id": "ff93688b-d187-417a-9440-4a5a7b39fe3c",
   "metadata": {},
   "outputs": [],
   "source": []
  }
 ],
 "metadata": {
  "kernelspec": {
   "display_name": "Python 3 (ipykernel)",
   "language": "python",
   "name": "python3"
  },
  "language_info": {
   "codemirror_mode": {
    "name": "ipython",
    "version": 3
   },
   "file_extension": ".py",
   "mimetype": "text/x-python",
   "name": "python",
   "nbconvert_exporter": "python",
   "pygments_lexer": "ipython3",
   "version": "3.7.12"
  }
 },
 "nbformat": 4,
 "nbformat_minor": 5
}
