{
 "cells": [
  {
   "cell_type": "markdown",
   "metadata": {},
   "source": [
    "# Running C code from Python with `ctypes`\n",
    "\n",
    "In this notebook we show an example on compiling C code defining an algorithm and then applying it to a numpy array.\n",
    "The algorithm is very simple: it retrieves the maximum element of a 1D array.\n",
    "\n",
    "Let's start by writing the algorithm in a file, say `tmp.C`.\n",
    "\n",
    "Note that the function is defined as an `extern \"C\"` function. \n",
    "This disables C++ name mangling and ease accessing to the compiled code from Python."
   ]
  },
  {
   "cell_type": "code",
   "execution_count": 30,
   "metadata": {},
   "outputs": [],
   "source": [
    "print(\"\"\"\n",
    "extern \"C\"\n",
    "double compute_max (int n, double* data)\n",
    "{\n",
    "    int i;\n",
    "    double max = data[0];\n",
    "    \n",
    "    for (i = 1; i < n; ++i)\n",
    "        if (data[i] > max)\n",
    "            max = data[i];\n",
    "    \n",
    "    return max;\n",
    "}\n",
    "\"\"\", file=open('tmp.C', 'w'))"
   ]
  },
  {
   "cell_type": "markdown",
   "metadata": {},
   "source": [
    "Then we compile it with GCC. \n",
    "Note that:\n",
    " * `-fPIC --shared` are GCC options used to compile the code as a shared object;\n",
    " * `-o tmp.so` is the output file path;\n",
    " * `tmp.C` is the source."
   ]
  },
  {
   "cell_type": "code",
   "execution_count": 31,
   "metadata": {},
   "outputs": [],
   "source": [
    "!gcc -fPIC --shared -o tmp.so tmp.C"
   ]
  },
  {
   "cell_type": "markdown",
   "metadata": {},
   "source": [
    "## Importing the function with `ctypes`\n",
    "\n",
    "See [`ctypes`](https://docs.python.org/3/library/ctypes.html) library in Python is designed to enable accessing non-Python libraries from Python.\n",
    "\n",
    "Here, we are using it to load the `compile_max` function from our `tmp.so` library."
   ]
  },
  {
   "cell_type": "code",
   "execution_count": 33,
   "metadata": {},
   "outputs": [],
   "source": [
    "import numpy as np \n",
    "import ctypes\n",
    "\n",
    "## Load the library\n",
    "library = ctypes.CDLL(\"./tmp.so\")\n",
    "\n",
    "## Load the function\n",
    "c_max = library.compute_max\n",
    "\n",
    "## Define the types of the arguments and return value. \n",
    "## Note: np.ctypeslib enable the definition of data types for handling numpy arrays from ctypes.\n",
    "c_max.argtypes = [ctypes.c_int, np.ctypeslib.ndpointer(dtype=np.float64)]\n",
    "c_max.restype = ctypes.c_double"
   ]
  },
  {
   "cell_type": "markdown",
   "metadata": {},
   "source": [
    "We can then use the function as a normal Python function."
   ]
  },
  {
   "cell_type": "code",
   "execution_count": 35,
   "metadata": {},
   "outputs": [
    {
     "name": "stdout",
     "output_type": "stream",
     "text": [
      "(6.019066512638797 == 6.019066512638797) is True\n"
     ]
    }
   ],
   "source": [
    "array = np.random.normal(0, 2, 100)\n",
    "\n",
    "m1 = c_max(len(array), array)\n",
    "m2 = np.max(array)\n",
    "print (f\"({m1} == {m2}) is {m1 == m2}\")"
   ]
  },
  {
   "cell_type": "markdown",
   "metadata": {},
   "source": [
    "## Compile and load to a random library (to avoid Python caching of your library)\n",
    "\n",
    "Python loads the library the first time you issue `ctypes.CDLL()` and then to reload the library, you should restart the Python kernel, which is not very effective while prototyping on a notebook.\n",
    "A workaround is to write on a random file in order to force Python to reload the library.\n",
    "With time, Python garbage collector will automatically unload the variables.\n",
    "\n",
    "Here is an example to achieve this."
   ]
  },
  {
   "cell_type": "code",
   "execution_count": 41,
   "metadata": {},
   "outputs": [],
   "source": [
    "import random\n",
    "\n",
    "## Randomize file name\n",
    "my_lib_path = f\"./tmp.{random.randint(0, 0x7FFF)}.so\"\n",
    "\n",
    "## Compile the library with the randomized name \n",
    "!gcc -fPIC --shared -o {my_lib_path} tmp.C\n",
    "\n",
    "## Loads the library reading the randomized name\n",
    "my_lib = ctypes.CDLL(my_lib_path)"
   ]
  }
 ],
 "metadata": {
  "kernelspec": {
   "display_name": "Python 3",
   "language": "python",
   "name": "python3"
  },
  "language_info": {
   "codemirror_mode": {
    "name": "ipython",
    "version": 3
   },
   "file_extension": ".py",
   "mimetype": "text/x-python",
   "name": "python",
   "nbconvert_exporter": "python",
   "pygments_lexer": "ipython3",
   "version": "3.8.3"
  }
 },
 "nbformat": 4,
 "nbformat_minor": 4
}
