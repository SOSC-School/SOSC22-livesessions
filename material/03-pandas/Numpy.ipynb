{
 "cells": [
  {
   "cell_type": "code",
   "execution_count": 1,
   "id": "c7cf2ea9-7b67-4530-a7c5-e21c3de05f85",
   "metadata": {},
   "outputs": [],
   "source": [
    "import numpy as np\n",
    "x = np.random.normal(0, 1, 100_000_000)"
   ]
  },
  {
   "cell_type": "code",
   "execution_count": 4,
   "id": "c6644a85-a951-40fa-b7b7-811390d6f8ce",
   "metadata": {},
   "outputs": [],
   "source": [
    "def py_count(array, threshold):\n",
    "    counter = 0\n",
    "    for entry in array:\n",
    "        if entry > threshold:\n",
    "            counter += 1\n",
    "    \n",
    "    return counter"
   ]
  },
  {
   "cell_type": "code",
   "execution_count": 8,
   "id": "5c2c2cb5-906c-45d9-8733-fcf002026fc2",
   "metadata": {},
   "outputs": [
    {
     "name": "stdout",
     "output_type": "stream",
     "text": [
      "2.18 s ± 14.7 ms per loop (mean ± std. dev. of 7 runs, 1 loop each)\n"
     ]
    }
   ],
   "source": [
    "%timeit py_count(x[:10_000_000], 4)"
   ]
  },
  {
   "cell_type": "code",
   "execution_count": 9,
   "id": "28e964ea-b438-45a9-b01f-93d813a56e46",
   "metadata": {},
   "outputs": [
    {
     "name": "stdout",
     "output_type": "stream",
     "text": [
      "5.77 ms ± 13.3 µs per loop (mean ± std. dev. of 7 runs, 100 loops each)\n"
     ]
    }
   ],
   "source": [
    "def np_count(array, threshold):\n",
    "    above_thresholds = array > threshold\n",
    "    return np.count_nonzero(above_thresholds)\n",
    "\n",
    "%timeit np_count(x[:10_000_000], 4)"
   ]
  },
  {
   "cell_type": "code",
   "execution_count": 11,
   "id": "47336ecc-847e-45c7-ad65-c599f376bb7b",
   "metadata": {},
   "outputs": [],
   "source": [
    "print(\"\"\"\n",
    "\n",
    "extern \"C\" \n",
    "int c_count(int len, double* array, double threshold)\n",
    "{\n",
    "  int i;\n",
    "  int counter = 0;\n",
    "  \n",
    "  for (i = 0; i < len; ++i)\n",
    "    if (array[i] > threshold)\n",
    "      counter ++;\n",
    "\n",
    "  return counter;\n",
    "}\n",
    "\"\"\", file=open(\"source.C\", \"w\"))\n",
    "\n",
    "!gcc source.C -o mylib.so -fPIC --shared"
   ]
  },
  {
   "cell_type": "code",
   "execution_count": 12,
   "id": "7f2b64ce-04ef-45d0-9aec-d428a0bec010",
   "metadata": {},
   "outputs": [
    {
     "name": "stdout",
     "output_type": "stream",
     "text": [
      "mylib.so  source.C  src.C  Untitled1.ipynb  Untitled.ipynb  validate_user.ipynb\n"
     ]
    }
   ],
   "source": [
    "!ls"
   ]
  },
  {
   "cell_type": "code",
   "execution_count": 14,
   "id": "ce1368be-5a97-469a-8507-cecd783ed981",
   "metadata": {},
   "outputs": [
    {
     "data": {
      "text/plain": [
       "<_FuncPtr object at 0x7f5e2c3a6a10>"
      ]
     },
     "execution_count": 14,
     "metadata": {},
     "output_type": "execute_result"
    }
   ],
   "source": [
    "import ctypes\n",
    "mylib = ctypes.CDLL(\"./mylib.so\")\n",
    "\n",
    "mylib.c_count"
   ]
  },
  {
   "cell_type": "code",
   "execution_count": 15,
   "id": "a4ca2f94-c476-46b3-a059-187a9b5c3b48",
   "metadata": {},
   "outputs": [],
   "source": [
    "mylib.c_count.restype = ctypes.c_int\n",
    "mylib.c_count.argtypes = [\n",
    "    ctypes.c_int,\n",
    "    np.ctypeslib.ndpointer(np.float64),\n",
    "    ctypes.c_double]\n"
   ]
  },
  {
   "cell_type": "code",
   "execution_count": 18,
   "id": "0f073495-959e-45d4-952b-137adf633fa1",
   "metadata": {},
   "outputs": [
    {
     "name": "stdout",
     "output_type": "stream",
     "text": [
      "248 ms ± 672 µs per loop (mean ± std. dev. of 7 runs, 1 loop each)\n"
     ]
    }
   ],
   "source": [
    "%timeit mylib.c_count(len(x), x, 4.)"
   ]
  },
  {
   "cell_type": "code",
   "execution_count": 19,
   "id": "274fcc58-9733-41ab-8aca-203ba23b6a63",
   "metadata": {},
   "outputs": [
    {
     "name": "stdout",
     "output_type": "stream",
     "text": [
      "78.9 ms ± 6.64 ms per loop (mean ± std. dev. of 7 runs, 10 loops each)\n"
     ]
    }
   ],
   "source": [
    "%timeit np_count(x, 4.)"
   ]
  },
  {
   "cell_type": "code",
   "execution_count": null,
   "id": "dee8c090-3fe9-4fc6-9662-e680e910ed0f",
   "metadata": {},
   "outputs": [],
   "source": []
  }
 ],
 "metadata": {
  "kernelspec": {
   "display_name": "Python 3 (ipykernel)",
   "language": "python",
   "name": "python3"
  },
  "language_info": {
   "codemirror_mode": {
    "name": "ipython",
    "version": 3
   },
   "file_extension": ".py",
   "mimetype": "text/x-python",
   "name": "python",
   "nbconvert_exporter": "python",
   "pygments_lexer": "ipython3",
   "version": "3.7.12"
  }
 },
 "nbformat": 4,
 "nbformat_minor": 5
}
