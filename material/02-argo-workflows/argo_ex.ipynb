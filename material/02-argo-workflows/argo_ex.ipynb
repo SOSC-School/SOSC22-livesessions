{
 "cells": [
  {
   "cell_type": "markdown",
   "id": "919347b3-8c1b-4b61-842a-4a03afe42019",
   "metadata": {},
   "source": [
    "# Hands-on argo workflows"
   ]
  },
  {
   "cell_type": "markdown",
   "id": "5dba785f-e44e-4fd4-9120-05b9a3f50aec",
   "metadata": {},
   "source": [
    "## Get your webUI credentials\n",
    "\n",
    "You can use the output of the cell below to access the webUI at: \n",
    "`http://argoworkflows.131.154.96.42.myip.cloud.infn.it/<YOUR JUPYTER USERNAME HERE>`"
   ]
  },
  {
   "cell_type": "code",
   "execution_count": null,
   "id": "5ad5a94a-c8fa-4c9f-b8ff-14164a6e7842",
   "metadata": {},
   "outputs": [],
   "source": [
    "import os\n",
    "with open('/var/run/secrets/kubernetes.io/serviceaccount/token') as token_file:\n",
    "    token = token_file.read()\n",
    "argo_token = f\"{token}\"\n",
    "user = os.environ.get(\"JUPYTERHUB_USER\")\n",
    "print(f\"Jupyter Username {user}\")\n",
    "print(f\"Bearer {token}\")"
   ]
  },
  {
   "cell_type": "markdown",
   "id": "43edb9c4-c9c6-4eff-b3d8-0478fcb0027e",
   "metadata": {
    "tags": []
   },
   "source": [
    "## Create your first workflow\n",
    "\n",
    "Let's create a yaml file `whalesay.yaml` with our first Argo worklow. It will simply make a whale speaking :)\n",
    "\n",
    "```yaml\n",
    " \n",
    "apiVersion: argoproj.io/v1alpha1\n",
    "kind: Workflow\n",
    "metadata:\n",
    "  generateName: hello-world-parameters-\n",
    "spec:\n",
    "  entrypoint: whalesay\n",
    "  arguments:\n",
    "    parameters:\n",
    "    - name: message\n",
    "      value: Message string default value \n",
    "  templates:\n",
    "  - name: whalesay\n",
    "    inputs:\n",
    "      parameters:\n",
    "      - name: message\n",
    "    container:\n",
    "      image: docker/whalesay\n",
    "      command: [cowsay]\n",
    "      args: [\"{{inputs.parameters.message}}\"] \n",
    "```\n",
    "\n",
    "### Submit and watch your first workflow from a terminal\n",
    "\n",
    "```bash\n",
    "argo submit whalesay.yaml --watch\n",
    "```"
   ]
  },
  {
   "cell_type": "markdown",
   "id": "e27574c2-9950-44eb-a872-43461cf8a52e",
   "metadata": {},
   "source": [
    "### Let's now explore what happened\n",
    "\n",
    "--> You can now look at the webUI to see all the details and logs of the workflow\n",
    "--> Also, you will be able to find the logs on your S3 storage at https://console.131.154.96.42.myip.cloud.infn.it/"
   ]
  },
  {
   "cell_type": "markdown",
   "id": "af04222e-e96e-465a-9a4e-4f5e73923f2a",
   "metadata": {},
   "source": [
    "### Create a chain of tasks\n",
    "\n",
    "Now we are going to create a more complex workflow, where we put more tasks in a chain. \n",
    "\n",
    "The example consists in making a first task tossing a coin and subsequent ones acting differentely depending on the outcome.\n",
    "\n",
    "### Flip coin example\n",
    "\n",
    "Let's create a yaml file flipcoin.yaml with our Argo worklow.\n",
    "\n",
    "```yaml\n",
    "apiVersion: argoproj.io/v1alpha1\n",
    "kind: Workflow\n",
    "metadata:\n",
    "  generateName: conditional-parameter-\n",
    "  labels:\n",
    "    workflows.argoproj.io/test: \"true\"\n",
    "  annotations:\n",
    "    workflows.argoproj.io/version: '>= 3.1.0'\n",
    "spec:\n",
    "  entrypoint: main\n",
    "  templates:\n",
    "    - name: main\n",
    "      steps:\n",
    "        - - name: flip-coin\n",
    "            template: flip-coin\n",
    "        - - name: heads\n",
    "            template: heads\n",
    "            when: \"{{steps.flip-coin.outputs.result}} == heads\"\n",
    "          - name: tails\n",
    "            template: tails\n",
    "            when: \"{{steps.flip-coin.outputs.result}} == tails\"\n",
    "      outputs:\n",
    "        parameters:\n",
    "          - name: stepresult\n",
    "            valueFrom:\n",
    "              expression: \"steps['flip-coin'].outputs.result == 'heads' ? steps.heads.outputs.result : steps.tails.outputs.result\"\n",
    "    - name: flip-coin\n",
    "      script:\n",
    "        image: python:alpine3.6\n",
    "        command: [ python ]\n",
    "        source: |\n",
    "          import random\n",
    "          print(\"heads\" if random.randint(0,1) == 0 else \"tails\")\n",
    "    - name: heads\n",
    "      script:\n",
    "        image: python:alpine3.6\n",
    "        command: [ python ]\n",
    "        source: |\n",
    "          print(\"heads\")\n",
    "    - name: tails\n",
    "      script:\n",
    "        image: python:alpine3.6\n",
    "        command: [ python ]\n",
    "        source: |\n",
    "          print(\"tails\")\n",
    "```\n",
    "\n",
    "and then again\n",
    "\n",
    "```bash\n",
    "argo submit flipcoin.yaml --watch\n",
    "```"
   ]
  },
  {
   "cell_type": "markdown",
   "id": "8a6a819c-d5fd-4b81-aadd-9674582d327e",
   "metadata": {},
   "source": [
    "## Extra: define workflows programmatically\n",
    "\n",
    "Let's now reproduce the flip coin example via the python bindings provided by Hera framework.\n"
   ]
  },
  {
   "cell_type": "code",
   "execution_count": null,
   "id": "21147508-cf64-4697-85a8-8ecda4129da5",
   "metadata": {},
   "outputs": [],
   "source": [
    "import uuid\n",
    "from hera import Task\n",
    "from hera import Workflow, WorkflowService\n",
    "\n",
    "\n",
    "def random_code():\n",
    "    import random\n",
    "\n",
    "    res = \"heads\" if random.randint(0, 1) == 0 else \"tails\"\n",
    "    print(res)\n",
    "\n",
    "\n",
    "def heads():\n",
    "    print(\"it was heads\")\n",
    "\n",
    "\n",
    "def tails():\n",
    "    print(\"it was tails\")\n",
    "\n",
    "svc = WorkflowService(\n",
    "    token=argo_token,\n",
    "    host=\"http://argoworkflows.131.154.96.42.myip.cloud.infn.it/<YOUR JUPYTER USERNAME HERE>\",\n",
    "    namespace=f\"user-{user}\"\n",
    ")\n",
    "\n",
    "wf_name = f\"coin-flip-{uuid.uuid4()}\"\n",
    "\n",
    "# assumes you used `hera.set_global_token` and `hera.set_global_host` so that the workflow can be submitted\n",
    "with Workflow(wf_name, service=svc) as w:\n",
    "    r = Task(\"r\", random_code)\n",
    "    h = Task(\"h\", heads)\n",
    "    t = Task(\"t\", tails)\n",
    "\n",
    "    h.on_other_result(r, \"heads\")\n",
    "    t.on_other_result(r, \"tails\")\n",
    "\n",
    "wf = w.create()"
   ]
  },
  {
   "cell_type": "markdown",
   "id": "1f8910a1-d244-4c0d-a45d-fa2fb4134eb6",
   "metadata": {},
   "source": [
    "### Monitor the workflow status\n",
    "\n",
    "You can either go on the WebUI or programmatically via:"
   ]
  },
  {
   "cell_type": "code",
   "execution_count": null,
   "id": "6d72995d-ddcc-47d6-a098-eaa7fa085b99",
   "metadata": {},
   "outputs": [],
   "source": [
    "import time\n",
    "\n",
    "while svc.get_workflow_status(wf_name) not in [\"Succeeded\", \"Failed\", \"Error\"]:\n",
    "    print(svc.get_workflow_status(wf_name))\n",
    "    time.sleep(5)\n",
    "\n",
    "print(\"Worflow ended in status:\", svc.get_workflow_status(wf_name))"
   ]
  },
  {
   "cell_type": "markdown",
   "id": "35949c20-e930-444a-8c66-444e171de0e1",
   "metadata": {},
   "source": [
    "### Use a custom image\n",
    "\n",
    "You can use a custom image in a task with something like:\n",
    "\n",
    "```python\n",
    "from hera import ImagePullPolicy, Task, Workflow\n",
    "\n",
    "with Workflow(\"pipeline-image-testing\", service=svc) as w:\n",
    "    # This can be used when you have your own custom image\n",
    "    # Image_pull_policy is set to Never because on localhost when you test\n",
    "    # you don't need to pull the image\n",
    "    Task(\n",
    "        \"workflow-with-custom-image\",\n",
    "        image=\"my-custom-image-name:latest\",\n",
    "        image_pull_policy=ImagePullPolicy.Never,\n",
    "        command=[\"python\", \"-m\", \"src.pipeline_example\"],\n",
    "    )\n",
    "\n",
    "w.create()\n",
    "```"
   ]
  },
  {
   "cell_type": "markdown",
   "id": "4cc21176-9499-46e1-8c97-0efd06110cc5",
   "metadata": {},
   "source": [
    "### Artifacts\n",
    "\n",
    "Let's investigate how we can make two task communicate with data written on a file.\n",
    "\n",
    "Notice that the intermediate file will be stored as artifact also on the S3 storage."
   ]
  },
  {
   "cell_type": "code",
   "execution_count": null,
   "id": "6d70414c-d3b3-4ab3-8937-16544530e898",
   "metadata": {},
   "outputs": [],
   "source": [
    "from hera import Artifact, Task, Workflow\n",
    "\n",
    "\n",
    "def writer():\n",
    "    with open(\"/file\", \"w+\") as f:\n",
    "        f.write(\"Hello, world!\")\n",
    "\n",
    "\n",
    "def consumer():\n",
    "    with open(\"/file\", \"r\") as f:\n",
    "        print(f.readlines())  # prints `Hello, world!` to `stdout`\n",
    "\n",
    "\n",
    "# assumes you used `hera.set_global_token` and `hera.set_global_host` so that the workflow can be submitted\n",
    "with Workflow(f\"artifact-{uuid.uuid4()}\", service=svc) as w:\n",
    "    w_t = Task(\"writer\", writer, outputs=[Artifact(\"test\", \"/file\")])\n",
    "    c_t = Task(\n",
    "        \"consumer\",\n",
    "        consumer,\n",
    "        inputs=[w_t.get_artifact(\"test\")],\n",
    "    )\n",
    "\n",
    "    w_t >> c_t\n",
    "\n",
    "w.create()"
   ]
  },
  {
   "cell_type": "markdown",
   "id": "5c5c6243-8a04-4bc6-acb3-1131b9360d5a",
   "metadata": {},
   "source": [
    "### Workflow templates (BONUS)\n",
    "\n",
    "If you want to reuse the structure of a worflow more than once, you can store a workflow template.\n",
    "\n",
    "For instance, let's create a flipcoin template\n"
   ]
  },
  {
   "cell_type": "code",
   "execution_count": null,
   "id": "1bbd489f-4e2e-4818-a3b3-6f3f81a64ddc",
   "metadata": {},
   "outputs": [],
   "source": [
    "from hera import Task, WorkflowTemplate\n",
    "\n",
    "\n",
    "def random_code():\n",
    "    import random\n",
    "\n",
    "    res = \"heads\" if random.randint(0, 1) == 0 else \"tails\"\n",
    "    print(res)\n",
    "\n",
    "\n",
    "def heads():\n",
    "    print(\"it was heads\")\n",
    "\n",
    "\n",
    "def tails():\n",
    "    print(\"it was tails\")\n",
    "\n",
    "\n",
    "with WorkflowTemplate(f\"hera-workflow-templates\", dag_name=\"coin-flip\", service=svc) as w:\n",
    "    r = Task(\"r\", random_code)\n",
    "    Task(\"h\", heads).on_other_result(r, \"heads\")\n",
    "    Task(\"t\", tails).on_other_result(r, \"tails\")\n",
    "\n",
    "w.create()"
   ]
  },
  {
   "cell_type": "markdown",
   "id": "3a432590-986b-4e1b-9881-bc9c8a4d958d",
   "metadata": {},
   "source": [
    "### Reuse a workflow template\n",
    "\n",
    "Once you created a template you can then reuse it with some like:"
   ]
  },
  {
   "cell_type": "code",
   "execution_count": null,
   "id": "b949c827-d8f7-49e3-afdb-d986f5284eb5",
   "metadata": {},
   "outputs": [],
   "source": [
    "from hera import Task, TemplateRef, Workflow\n",
    "\n",
    "# The name of the DAG template is either the name of WorkflowTemplate (default), or the `dag_name`\n",
    "with Workflow(f\"workflow-with-template-ref-{uuid.uuid4()}\", service=svc) as w:\n",
    "    Task(\"coin-flip\", template_ref=TemplateRef(name=\"hera-workflow-templates\", template=\"coin-flip\"))\n",
    "\n",
    "w.create()"
   ]
  },
  {
   "cell_type": "markdown",
   "id": "0485fd69-66a8-4cd2-81ee-6adc1c6df8aa",
   "metadata": {},
   "source": [
    "## Homework (TBD)\n",
    "\n",
    "\n"
   ]
  },
  {
   "cell_type": "code",
   "execution_count": null,
   "id": "df193a60-5c2b-4e1e-ba68-a1226f520dfa",
   "metadata": {},
   "outputs": [],
   "source": []
  }
 ],
 "metadata": {
  "kernelspec": {
   "display_name": "Python 3 (ipykernel)",
   "language": "python",
   "name": "python3"
  },
  "language_info": {
   "codemirror_mode": {
    "name": "ipython",
    "version": 3
   },
   "file_extension": ".py",
   "mimetype": "text/x-python",
   "name": "python",
   "nbconvert_exporter": "python",
   "pygments_lexer": "ipython3",
   "version": "3.7.12"
  }
 },
 "nbformat": 4,
 "nbformat_minor": 5
}
